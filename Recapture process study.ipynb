{
 "cells": [
  {
   "cell_type": "code",
   "execution_count": null,
   "metadata": {},
   "outputs": [],
   "source": [
    "import numpy as np\n",
    "import holoviews as hv\n",
    "import matplotlib.pyplot as plt\n",
    "\n",
    "hv.extension('matplotlib')"
   ]
  },
  {
   "cell_type": "code",
   "execution_count": null,
   "metadata": {},
   "outputs": [],
   "source": [
    "import warnings\n",
    "warnings.filterwarnings('ignore')"
   ]
  },
  {
   "cell_type": "code",
   "execution_count": null,
   "metadata": {},
   "outputs": [],
   "source": [
    "c = 299792458 # m/c\n",
    "mc = 0.511e6 # eV/c\n",
    "Qe = 1.60217662e-19 # elementary charge in Coulombs\n",
    "\n",
    "#p0 = 393e6 # eV/c\n",
    "p0=600e6\n",
    "#p0=2000e6"
   ]
  },
  {
   "cell_type": "code",
   "execution_count": null,
   "metadata": {},
   "outputs": [],
   "source": [
    "Ne = 3.7e11  # Number of electrons/positrons in the beam\n",
    "N  = 1000# number of macro-particles in this simulation"
   ]
  },
  {
   "cell_type": "code",
   "execution_count": null,
   "metadata": {},
   "outputs": [],
   "source": [
    "print(\"Bunch charge = %.1f nC\" % (Ne*Qe/1e-9))"
   ]
  },
  {
   "cell_type": "markdown",
   "metadata": {},
   "source": [
    "Electron beam parameters:"
   ]
  },
  {
   "cell_type": "code",
   "execution_count": null,
   "metadata": {},
   "outputs": [],
   "source": [
    "#sigma_z = 0.22 # m for 393 MeV\n",
    "sigma_z=0.29 # for 600 Mev\n",
    "#sigma_z= 0.091 # for 2 GeV\n",
    "#sigma_z = 1.0e-2 # m -- to test wakefield calculation\n",
    "\n",
    "#sigma_dp = 1.25e-4 # relative momentum spread\n",
    "#sigma_dp=0.000135638 # for 393 MeV\n",
    "sigma_dp=0.000210 # for 600 MeV\n",
    "#sigma_dp=0.00072 # for 2 Gev"
   ]
  },
  {
   "cell_type": "markdown",
   "metadata": {},
   "source": [
    "Distribution in $z$ and $\\delta p = \\frac{\\Delta p}{p}$ can be defined easily since they are not correlated:"
   ]
  },
  {
   "cell_type": "code",
   "execution_count": null,
   "metadata": {},
   "outputs": [],
   "source": [
    "z0  = np.random.normal(scale=sigma_z, size=N)\n",
    "#z0  = np.random.uniform(low=-sigma_z*2, high=sigma_z*2, size=N)\n",
    "dp0 = np.random.normal(scale=sigma_dp, size=N)"
   ]
  },
  {
   "cell_type": "code",
   "execution_count": null,
   "metadata": {},
   "outputs": [],
   "source": [
    "%opts Scatter (alpha=1 s=2) [aspect=3 show_grid=True]\n",
    "\n",
    "dim_z  = hv.Dimension('z',  unit='m', range=(-12,12))\n",
    "dim_dp = hv.Dimension('dp', label='100%*$\\Delta p/p$', range=(-1.5,+1.5))\n",
    "\n",
    "%output backend='matplotlib' fig='png' size=200 dpi=100"
   ]
  },
  {
   "cell_type": "code",
   "execution_count": null,
   "metadata": {},
   "outputs": [],
   "source": [
    "hv.Scatter((z0,dp0*100), kdims=[dim_z,dim_dp])\n",
    "\n"
   ]
  },
  {
   "cell_type": "markdown",
   "metadata": {},
   "source": [
    "The function to get beam current profile corresponding to particle distribution:"
   ]
  },
  {
   "cell_type": "code",
   "execution_count": null,
   "metadata": {},
   "outputs": [],
   "source": [
    "def get_I(z, z_bin = 0.05, z_min=-15, z_max=+15):\n",
    "    # z, z_bin, z_min, z_max in meters\n",
    "    \n",
    "    hist, bins = np.histogram( z, range=(z_min, z_max), bins=int((z_max-z_min)/z_bin) )\n",
    "    Qm = Qe*Ne/N # macroparticle charge in C\n",
    "    I = hist*Qm/(z_bin/c) # A\n",
    "\n",
    "    z_centers = (bins[:-1] + bins[1:]) / 2\n",
    "    \n",
    "    return z_centers, I"
   ]
  },
  {
   "cell_type": "code",
   "execution_count": null,
   "metadata": {},
   "outputs": [],
   "source": [
    "%opts Area [show_grid=True aspect=3] (alpha=0.5)\n",
    "\n",
    "dim_I = hv.Dimension('I',  unit='A',  range=(0.0,+6.0))\n",
    "\n",
    "hv.Area(get_I(z0), kdims=[dim_z], vdims=[dim_I])\n",
    "#plt.scatter(get_I(z0)[0],get_I(z0)[1])"
   ]
  },
  {
   "cell_type": "markdown",
   "metadata": {},
   "source": [
    "### Effects of RF-resonator"
   ]
  },
  {
   "cell_type": "markdown",
   "metadata": {
    "collapsed": true
   },
   "source": [
    "Longitudinal momentum gain of electron after it has passed through the RF-resonator depends on the electron phase with respect to the RF:"
   ]
  },
  {
   "cell_type": "markdown",
   "metadata": {},
   "source": [
    "$$\n",
    "\\frac{dp_z}{dt} = eE_{\\rm{RF}}\\cos\\phi,\n",
    "$$"
   ]
  },
  {
   "cell_type": "markdown",
   "metadata": {},
   "source": [
    "where $E_{\\rm{RF}}$ is the accelerating electric field and $\\phi$ is the electron phase in the RF resonator. The resulting longitudinal momentum change:"
   ]
  },
  {
   "cell_type": "markdown",
   "metadata": {},
   "source": [
    "$$\n",
    "\\delta p_z = e\\frac{ V_{\\rm{RF}} }{ L_{\\rm{RF}}} (\\cos\\phi) \\Delta t = e\\frac{ V_{\\rm{RF}} }{c} \\cos\\phi,\n",
    "$$"
   ]
  },
  {
   "cell_type": "markdown",
   "metadata": {},
   "source": [
    "where $V_{\\rm{RF}}$ is the RF-voltage."
   ]
  },
  {
   "cell_type": "markdown",
   "metadata": {},
   "source": [
    "RF-resonator frequency $f_{\\rm{RF}}$ is some harmonic $h$ of revolution frequency:\n",
    "\n",
    "$$\n",
    "f_{\\rm{RF}} = \\frac{h}{T_s},\n",
    "$$\n",
    "\n",
    "where $T_s$ is the revolution period."
   ]
  },
  {
   "cell_type": "markdown",
   "metadata": {},
   "source": [
    "Longitudinal coordinate $z$ gives the longitudinal distance from the electron to the reference particle at the moment when the reference particle arrives at the RF-phase $\\phi_0$ (which is always the same). So the electron then arrives to the RF-resonator after the time\n",
    "\n",
    "$$\n",
    "\\Delta T = -\\frac{z}{c}.\n",
    "$$"
   ]
  },
  {
   "cell_type": "markdown",
   "metadata": {},
   "source": [
    "Then the electron phase in the RF-resonator is\n",
    "\n",
    "$$\n",
    "\\phi = \\phi_0 + 2\\pi f_{\\rm{RF}}\\Delta T = \\phi_0 - 2\\pi \\frac{hz}{T_s c} \\approx \\phi_0 - 2\\pi \\frac{hz}{L}.\n",
    "$$"
   ]
  },
  {
   "cell_type": "markdown",
   "metadata": {},
   "source": [
    "where $L$ is the ring perimeter. If the electron momentum is different from its reference value then the period of revolution $T$ is different from $T_s$:\n",
    "$$\n",
    "T = \\frac{L+\\Delta l}{\\upsilon_s + \\Delta \\upsilon} \\approx T_s \\left ( 1 + \\frac{\\Delta l}{L} - \\frac{\\Delta \\upsilon}{\\upsilon_s} \\right ) \\approx T_s \\left ( 1 + \\frac{\\Delta l}{L} - \\frac{1}{\\gamma^2} \\frac{\\Delta p}{p} \\right ).\n",
    "$$\n",
    "The difference between the length of electron trajectory and the reference orbit length is given by the $M_{56}$ element of the 1-turn transport matrix:\n",
    "$$\n",
    "\\Delta l = M_{56} \\frac{\\Delta p} {p}.\n",
    "$$\n",
    "$\\Delta T = T - T_s$ in can be written as\n",
    "$$\n",
    "\\Delta T \\approx T_s \\left ( \\frac{M_{56}}{L} - \\frac{1}{\\gamma^2} \\right ) \\frac{\\Delta p}{p} = T_s \\left ( \\frac{1}{\\gamma_t^2} - \\frac{1}{\\gamma^2} \\right ) \\frac{\\Delta p}{p} = T_s\\eta\\frac{\\Delta p}{p}.\n",
    "$$"
   ]
  },
  {
   "cell_type": "markdown",
   "metadata": {},
   "source": [
    "Then the longitudinal position after one turn is\n",
    "$$\n",
    "z_{n+1} = z_n - L \\eta\\frac{\\Delta p_{n+1}}{p}.\n",
    "$$"
   ]
  },
  {
   "cell_type": "markdown",
   "metadata": {},
   "source": [
    "## Multi-turn tracking"
   ]
  },
  {
   "cell_type": "code",
   "execution_count": null,
   "metadata": {},
   "outputs": [],
   "source": [
    "L = 74.39 # m -- VEPP-3 perimeter\n",
    "gamma_t = 3.752 # gamma transition in the VEPP-3\n",
    "eta = 1/(gamma_t*gamma_t) - 1/((p0/mc)*(p0/mc))"
   ]
  },
  {
   "cell_type": "code",
   "execution_count": null,
   "metadata": {
    "scrolled": false
   },
   "outputs": [],
   "source": [
    "#N_turns = 1000020\n",
    "N_turns = 10000\n",
    "N_plots = 11\n",
    "\n",
    "h = 2\n",
    "#h=18\n",
    "#eVrf = 20e3 # eV\n",
    "#eVrf=800e3 \n",
    "eVrf = 9.7e3 # eV\n",
    "phi0 = np.pi/2\n",
    "#phi0 = 3.05258 # VEPP-3 equilibrum synchrotron phase 174.9 deg \n",
    "#dpoteri=1.81e3/p0\n",
    "w_synch_1=1770*2*np.pi\n",
    "w_synch_2=26700*2*np.pi\n",
    "w_rev=4030000\n",
    "t_plots = np.arange(0,N_turns+1,int(N_turns/(N_plots-1)))\n",
    "\n",
    "data2plot = {}\n",
    "#data2plot_2 = {}\n",
    "\n",
    "z = z0; dp = dp0\n",
    "phi=np.random.normal(scale=phi0, size=N)\n",
    "for turn in range(0,N_turns+1):\n",
    "    if turn in t_plots:\n",
    "        print( \"\\rturn = %g (%g %%)\" % (turn, (100*turn/N_turns)), end=\"\")\n",
    "        data2plot[turn] = (z,dp)\n",
    "        #data2plot_2[turn] = (phi,dp)\n",
    "    \n",
    "    phi = phi0 - 2*np.pi*h*(z/L)  # phase in the resonator\n",
    "    \n",
    "    # 1-turn transformation:\n",
    "    dp  = dp + eVrf*np.cos(phi)/p0\n",
    "    z = z - L*eta*dp\n",
    "    "
   ]
  },
  {
   "cell_type": "code",
   "execution_count": null,
   "metadata": {},
   "outputs": [],
   "source": [
    "#phase=np.linspace(-10*np.pi,10*np.pi,60)\n",
    "#W_bucket=L*(eVrf*p0/(2*np.pi*h*eta))**(0.5)/(np.pi*h*c)\n",
    "# separatrix up/down\n",
    "#s_u=W_bucket*(np.cos(0)**2-np.cos(phase/2)**2)**(0.5)\n",
    "#s_d=-W_bucket*(np.cos(0)**2-np.cos(phase/2)**2)**(0.5)"
   ]
  },
  {
   "cell_type": "code",
   "execution_count": null,
   "metadata": {},
   "outputs": [],
   "source": [
    "one_particle_z=[]\n",
    "one_particle_p=[]\n",
    "def plot_z_dp(turn):\n",
    "    z, dp = data2plot[turn]\n",
    "    #phi, dp = data2plot_2[turn]\n",
    "    z_dp = hv.Scatter((z, dp*100), [dim_z,dim_dp])\n",
    "    #z_dp = hv.Scatter((phi, dp*100), [dim_z,dim_dp])\n",
    "    z_I  = hv.Area(get_I(z), kdims=[dim_z], vdims=[dim_I])\n",
    "    #sep_1 = hv.Curve((phase, s_u), kdims=[dim_z], vdims=[dim_dp])\n",
    "    #sep_2 = hv.Curve((phase, s_d), kdims=[dim_z], vdims=[dim_dp])\n",
    "    one_particle_z.append(z[1])\n",
    "    one_particle_p.append(dp[1])\n",
    "    return (z_dp+z_I).cols(1) "
   ]
  },
  {
   "cell_type": "code",
   "execution_count": null,
   "metadata": {},
   "outputs": [],
   "source": [
    "#plot_z_dp(1000)"
   ]
  },
  {
   "cell_type": "code",
   "execution_count": null,
   "metadata": {
    "scrolled": false
   },
   "outputs": [],
   "source": [
    "dim_z  = hv.Dimension('z',  unit='m', range=(-10,10))\n",
    "dim_dp = hv.Dimension('dp', label='100%*$\\Delta p/p$', range=(-0.5,+0.5))\n",
    "items = [(turn, plot_z_dp(turn)) for turn in t_plots]\n",
    "#items = [(turn, plot_z_dp(turn)) for turn in range(0,20000)]\n",
    "\n",
    "m = hv.HoloMap(items, kdims = ['Turn'])\n",
    "m.collate()"
   ]
  },
  {
   "cell_type": "code",
   "execution_count": null,
   "metadata": {},
   "outputs": [],
   "source": [
    "#hv.Scatter((one_particle_z,one_particle_p))\n",
    "plt.scatter(one_particle_z,one_particle_p,s=1)\n",
    "plt.ylim(-0.001,0.001)"
   ]
  },
  {
   "cell_type": "markdown",
   "metadata": {},
   "source": [
    "## Longitudinal wakefield"
   ]
  },
  {
   "cell_type": "markdown",
   "metadata": {},
   "source": [
    "Now let's introduce the longitiudinal wakefield.\n",
    "\n",
    "First define wake-function in terms of $\\xi = z - ct$:"
   ]
  },
  {
   "cell_type": "markdown",
   "metadata": {},
   "source": [
    "Equation for wake-function can be obtained by performing a Fourier transformation of the impedance\n",
    "\n",
    "$$\n",
    "Z = \\frac{R_s}{1 + iQ\\left(\\frac{\\omega_R}{\\omega} -\\frac{\\omega}{\\omega_R}\\right)},\n",
    "$$\n",
    "where $Q$ is the quality factor, $\\omega_R$ is the frequency.\n",
    "\n",
    "(from A. Chao's book &#147;<a href=http://www.slac.stanford.edu/~achao/wileybook.html>Physics of Collective Beam Instabilities in High Energy Accelerators</a>&#148;. <a href=http://www.slac.stanford.edu/~achao/WileyBook/WileyChapter2.pdf>Chapter 2</a>, p. 73):\n",
    "\n",
    "$$\n",
    "W(\\xi) = \\begin{cases}\n",
    " 2\\alpha R_s e^{\\alpha \\xi/c}\\left(\\cos\\frac{\\overline{\\omega} \\xi}{c} + \\frac{\\alpha}{\\overline{\\omega}}\\sin\\frac{\\overline{\\omega} \\xi}{c}\\right), & \\mbox{if } \\xi < 0 \\\\\n",
    " \\alpha R_s, & \\mbox{if } \\xi = 0 \\\\\n",
    " 0, & \\mbox{if } \\xi > 0,\n",
    "\\end{cases}\n",
    "$$\n",
    "\n",
    "where $\\alpha = \\omega_R / 2Q$ and $\\overline\\omega = \\sqrt{\\omega_R^2 -\\alpha^2}$."
   ]
  },
  {
   "cell_type": "code",
   "execution_count": null,
   "metadata": {},
   "outputs": [],
   "source": [
    "def Wake(xi):\n",
    "    # of course some other wake can be defined here.\n",
    "    \n",
    "    #fr = 0.30e9 # Hz\n",
    "    #Rs=5.5e4 # Ohm\n",
    "    \n",
    "    fr=1.6e8 # for sigma_z=0.3m, Q=1 (VEPP-4)\n",
    "    Rs = 252\n",
    "    \n",
    "    #fr=1.36e9 # for normal working\n",
    "    #Rs=1.0e4\n",
    "    \n",
    "    \n",
    "    #fr=100e7 # for Q=10000\n",
    "    #Rs=6.4e6\n",
    "    \n",
    "    Q  = 1 # quality factor\n",
    "   \n",
    "    wr = 2*np.pi*fr\n",
    "    alpha = wr/(2*Q)\n",
    "    wr1 = wr*np.sqrt(1 - 1/(4*Q*Q))\n",
    "    \n",
    "    W = 2*alpha*Rs*np.exp(alpha*xi/c)*(np.cos(wr1*xi/c) + (alpha/wr1)*np.sin(wr1*xi/c))\n",
    "    W[xi==0] = alpha*Rs\n",
    "    W[xi>0] = 0\n",
    "    \n",
    "    return W"
   ]
  },
  {
   "cell_type": "code",
   "execution_count": null,
   "metadata": {},
   "outputs": [],
   "source": [
    "def Wake_RF(xi):\n",
    "    \n",
    "    fr=72.54e6 # for Q=10000 \n",
    "    #fr=1e9\n",
    "    Rs=6.4e6\n",
    "    Q  = 10000 # quality factor\n",
    "    \n",
    "    wr = 2*np.pi*fr\n",
    "    alpha = wr/(2*Q)\n",
    "    wr1 = wr*np.sqrt(1 - 1/(4*Q*Q))\n",
    "    \n",
    "    W = 2*alpha*Rs*np.exp(alpha*xi/c)*(np.cos(wr1*xi/c) + (alpha/wr1)*np.sin(wr1*xi/c))\n",
    "    W[xi==0] = alpha*Rs\n",
    "    W[xi>0] = 0\n",
    "    \n",
    "    return W"
   ]
  },
  {
   "cell_type": "code",
   "execution_count": null,
   "metadata": {
    "scrolled": false
   },
   "outputs": [],
   "source": [
    "%opts Curve [show_grid=True aspect=3]\n",
    "\n",
    "dim_xi   = hv.Dimension('xi', label=r\"$\\xi$\", unit='m',range=(-10,10))\n",
    "dim_Wake = hv.Dimension('W',  label=r\"$W$\", unit='V/pC',range=(-10,+30))\n",
    "dim_Wake_RF = hv.Dimension('W_RF',  label=r\"$W_RF$\", unit='V/pC',range=(-10,+30))\n",
    "\n",
    "L_wake = 10 # m\n",
    "dz = 0.04 # m \n",
    "#dz=0.001\n",
    "xi = np.linspace(-L_wake, 0, 250) # m\n",
    "print(xi)\n",
    "W = Wake(xi)\n",
    "W_RF = Wake_RF(xi)\n",
    "\n",
    "(hv.Curve((xi, W/1.0e13), kdims=[dim_xi], vdims=[dim_Wake]) + \\\n",
    " hv.Curve((xi, W_RF/1.0e12), kdims=[dim_xi], vdims=[dim_Wake_RF])).cols(1)"
   ]
  },
  {
   "cell_type": "code",
   "execution_count": null,
   "metadata": {},
   "outputs": [],
   "source": []
  },
  {
   "cell_type": "markdown",
   "metadata": {},
   "source": [
    "### Wakefield from e-bunch"
   ]
  },
  {
   "cell_type": "markdown",
   "metadata": {},
   "source": [
    "Longitudinal wake-function defines the wakefield amplitude from a point-like charge. Therefore a distribution of charge will produce the wakefield\n",
    "\n",
    "$$\n",
    "E(z) = -\\int\\limits_{z}^{+\\infty} W(z-z')I(z')dz'/c = -\\int\\limits_{-\\infty}^{0} W(\\xi)I(z-\\xi)d\\xi/c,\n",
    "$$"
   ]
  },
  {
   "cell_type": "code",
   "execution_count": null,
   "metadata": {},
   "outputs": [],
   "source": [
    "zc, I = get_I(z0, z_bin=dz)\n",
    "\n",
    "V = -np.convolve(W, I)*dz/c # V\n",
    "V_RF=np.convolve(W_RF,I)*dz/c\n",
    "\n",
    "print(len(W),len(I),len(V))"
   ]
  },
  {
   "cell_type": "code",
   "execution_count": null,
   "metadata": {},
   "outputs": [],
   "source": [
    "zV = np.linspace(max(zc)-dz*len(V), max(zc), len(V))"
   ]
  },
  {
   "cell_type": "code",
   "execution_count": null,
   "metadata": {},
   "outputs": [],
   "source": [
    "dim_V = hv.Dimension('V', unit='kV', range=(-30,30))\n",
    "\n",
    "(hv.Curve((zV, V/1e2), kdims=[dim_z], vdims=[dim_V]) + \\\n",
    " hv.Area((zc,I), kdims=[dim_z], vdims=[dim_I])).cols(1)"
   ]
  },
  {
   "cell_type": "markdown",
   "metadata": {},
   "source": [
    "## Tracking with impedance"
   ]
  },
  {
   "cell_type": "code",
   "execution_count": null,
   "metadata": {},
   "outputs": [],
   "source": [
    "data2plot = {}\n",
    "data2plot_2={}\n",
    "\n",
    "N_turns = 20001\n",
    "#eVrf = 0    # V\n",
    "#eVrf = 3e3 # V\n",
    "Tradz=0.08446243 # for 600 MeV\n",
    "#Tradz=0.3005654 # for 393 MeV\n",
    "\n",
    "t_plots=[i for i in range(0,20001,1000)]\n",
    "#t_plots=[i for i in range(0,20000,1000)]\n",
    "z = z0; dp = dp0\n",
    "phi0=0 #0.19 with dpoteri\n",
    "phi= np.random.normal(scale=2, size=N)\n",
    "for turn in range(0,N_turns+1):\n",
    "    if turn<10001:\n",
    "        h=2\n",
    "        eVrf=9.7e3 # for 600 Mev\n",
    "        #eVrf=4.7e3 # for 393 Mev\n",
    "        w_s=2*np.pi*2419.6\n",
    "        #dpoteri=0.33e3/p0 # for 393 Mev\n",
    "        dpoteri=8.4e3/p0\n",
    "        #dpoteri=1.81e3/p0\n",
    "        #beta=w_rev/(Tradz*w_s)\n",
    "    else:\n",
    "        h=18\n",
    "        eVrf=240e3\n",
    "        w_s=2*np.pi*36106.22092\n",
    "        phi0=0 #0.01 with dpoteri\n",
    "        #dpoteri=1.81e3/p0 \n",
    "        dpoteri=0\n",
    "        #beta=1/(Tradz)\n",
    "    if turn in t_plots:\n",
    "        print( \"\\rturn = %g (%g %%)\" % (turn, (100*turn/N_turns)), end=\"\")\n",
    "        data2plot[turn] = (z,dp)\n",
    "        data2plot_2[turn] = (phi,dp)\n",
    "    \n",
    "    phi = phi0 + 2*np.pi*h*(z/L)  # phase in the resonator\n",
    "    \n",
    "    #z = z - L*eta*dp\n",
    "    #sigma_momentum=np.std(dp)\n",
    "    \n",
    "    # wakefield:\n",
    "    zc, I = get_I(z, z_bin=dz) # A\n",
    "    V = -np.convolve(W, I)*dz/c # V    \n",
    "    V_RF=-np.convolve(W_RF, I)*dz/c\n",
    "    V_s = np.interp(z,zV,V)\n",
    "    V_s_RF=np.interp(z,zV,V_RF)\n",
    "    dp = dp + V_s/p0\n",
    "    dp = dp + V_s_RF/p0\n",
    "    #if turn>20000:\n",
    "     #   dp = dp + V_s_RF/p0\n",
    "    \n",
    "    # RF-cavity\n",
    "    #dp=dp-dpoteri\n",
    "    dp  = dp + eVrf*np.sin(phi)/p0\n",
    "    \n",
    "    # radiation damping and quantum excitation\n",
    "    #Tradz=0.08446243\n",
    "    beta=1/(Tradz)\n",
    "    #dp=dp-2*beta*dp/w_rev+(12*beta/w_rev)**(0.5)*np.random.uniform(-1,1,len(dp))*sigma_dp\n",
    "    dp=dp-2*beta/w_s*dp+(12*beta/w_s)**(0.5)*np.random.uniform(-1,1,len(dp))*sigma_dp\n",
    "    \n",
    "    # z after one turn:\n",
    "    z = z - L*eta*dp"
   ]
  },
  {
   "cell_type": "code",
   "execution_count": null,
   "metadata": {},
   "outputs": [],
   "source": [
    "def plot_z_dp(turn):\n",
    "    z, dp = data2plot[turn]\n",
    "    phi, dp = data2plot_2[turn]\n",
    "    if max(phi)>20:\n",
    "        out.append(turn)\n",
    "    z1=[]\n",
    "    dp1=[]\n",
    "    for i in range(0,len(z)):\n",
    "        if abs(z[i])<2:\n",
    "            z1.append(z[i])\n",
    "            dp1.append(dp[i])\n",
    "    Nparticles.append(len(z1))\n",
    "    standart_deviation_z.append(np.std(z1))\n",
    "    standart_deviation_p.append(np.std(dp1))\n",
    "    synchotronous_phase.append(np.mean(phi))\n",
    "    z_dp = hv.Scatter((z, dp*100), [dim_z,dim_dp])\n",
    "    #z_dp = hv.Scatter((phi, dp*100), [dim_phi,dim_dp])\n",
    "    #z_dp=plt.scatter(z,dp,s=1)\n",
    "    zc, I = get_I(z, z_bin=dz)\n",
    "    if turn==130:\n",
    "        for i in I:\n",
    "            dat.append(i)\n",
    "    z_I  = hv.Area((zc,I), kdims=[dim_z], vdims=[dim_I])\n",
    "    V = -np.convolve(W, I)*dz/c # V\n",
    "    z_V  = hv.Curve((zV, V/1e3), kdims=[dim_z], vdims=[dim_V])\n",
    "    return (z_dp+z_I+z_V).cols(1)\n",
    "    #return z_dp\n",
    "      "
   ]
  },
  {
   "cell_type": "code",
   "execution_count": null,
   "metadata": {
    "scrolled": false
   },
   "outputs": [],
   "source": [
    "%opts Scatter (alpha=1 s=2) [aspect=3 show_grid=True]\n",
    "%opts Area [show_grid=True aspect=3] (alpha=0.5)\n",
    "dat=[]\n",
    "standart_deviation_z=[]\n",
    "standart_deviation_p=[]\n",
    "synchotronous_phase=[]\n",
    "Nparticles=[]\n",
    "out=[]\n",
    "\n",
    "#t_plots=[i for i in range(0,501,10)]\n",
    "dim_z  = hv.Dimension('z',  unit='m', range=(-10.5,10.5))\n",
    "dim_phi  = hv.Dimension('phi',  unit='rad', range=(-9.28,14.28))\n",
    "dim_dp = hv.Dimension('dp', label='100*$\\Delta p/p$', range=(-2.5,+2.5))\n",
    "dim_I = hv.Dimension('I',  unit='усл.ед.',  range=(0.0,+15))\n",
    "items = [(turn, plot_z_dp(turn)) for turn in t_plots]\n",
    "#plt.ylim(-0.004,0.004)\n",
    "#plt.xlim(-0.3,0.3)\n",
    "\n",
    "\n",
    "print(\"synchotronous_phase\",synchotronous_phase)\n",
    "print(\"min/max\",min(phi),max(phi))\n",
    "print(\"particle is out at turn number\",out)\n",
    "print(\"N particles stable\",Nparticles)\n",
    "m = hv.HoloMap(items, kdims = ['Turn'])\n",
    "m.collate()\n"
   ]
  },
  {
   "cell_type": "code",
   "execution_count": null,
   "metadata": {},
   "outputs": [],
   "source": [
    "#np.save(\"‪data.npy\", standart_deviation_z)"
   ]
  },
  {
   "cell_type": "code",
   "execution_count": null,
   "metadata": {},
   "outputs": [],
   "source": [
    "plt.plot(t_plots,standart_deviation_z)"
   ]
  },
  {
   "cell_type": "code",
   "execution_count": null,
   "metadata": {},
   "outputs": [],
   "source": [
    "plt.plot(t_plots,standart_deviation_p)"
   ]
  },
  {
   "cell_type": "code",
   "execution_count": null,
   "metadata": {},
   "outputs": [],
   "source": [
    "f=open(r'C:\\Users\\Расим\\Desktop\\text.txt','w')\n",
    "#dat=standart_deviation_z\n",
    "#dat=dat[0]\n",
    "#dat1=data2plot[13300]\n",
    "#np.savetxt(f,freq_2)\n",
    "f.close()"
   ]
  },
  {
   "cell_type": "code",
   "execution_count": null,
   "metadata": {},
   "outputs": [],
   "source": [
    "c = 299792458\n",
    "four=abs(np.fft.fft(W_RF))\n",
    "freq=np.fft.fftfreq(len(four))\n",
    "freq=np.linspace(0,1,250)\n",
    "freq_2=abs(freq*250/(10/c)/1e9)\n",
    "for i in range(0,len(four)):\n",
    "    if four[i]==max(four):\n",
    "        print(\"frequency of wake_RF:\",200.0e7*10/c/249)\n",
    "        print(\"frequency of wake_RF in GHz:\",freq_2[i]/1e9)\n",
    "        print(\"frequency from Fourier:\",freq[i], freq[len(four)-i])\n",
    "        #print(30.54e11/c*np.sqrt(1-1/10e8))\n",
    "        #print(30.54e11/c/249*np.sqrt(1-1/10e8))\n",
    "        break\n",
    "plt.plot(freq_2,four)\n",
    "#plt.xlim(0e9,0.3e9)"
   ]
  },
  {
   "cell_type": "code",
   "execution_count": null,
   "metadata": {},
   "outputs": [],
   "source": [
    "c = 299792458\n",
    "print(dat)\n",
    "four=abs(np.fft.fft(dat))\n",
    "freq=np.fft.fftfreq(len(dat))\n",
    "freq=np.linspace(0,1,750)\n",
    "freq_2=abs(freq*749/(30/c)/1e9)\n",
    "for i in range(0,len(dat)):\n",
    "    if four[i]>20 and four[i]<30:\n",
    "        #print(\"frequency of wake_RF:\",72.54e7*30/c/749)\n",
    "        #print(\"frequency of wake_RF in GHz:\",freq_2[i]/1e9)\n",
    "        #print(\"frequency from Fourier:\",freq[i], freq[len(four)-i])\n",
    "        #print(30.54e11/c*np.sqrt(1-1/10e8))\n",
    "        #print(30.54e11/c/249*np.sqrt(1-1/10e8))\n",
    "        break\n",
    "plt.plot(freq_2,four)\n",
    "plt.xlim(0,2)\n",
    "plt.ylim(0,80)\n",
    "print(\"frequency of wake_RF:\",100.54e7*30/c/749)\n",
    "#print(\"frequency of wake_RF in GHz:\",freq_2)\n"
   ]
  },
  {
   "cell_type": "code",
   "execution_count": null,
   "metadata": {},
   "outputs": [],
   "source": [
    "f=open(r'C:\\Users\\Расим\\Desktop\\testing.txt','w')\n",
    "#dat=standart_deviation_z\n",
    "#dat=dat[0]\n",
    "#dat1=data2plot[13300]\n",
    "np.savetxt(f,four)\n",
    "f.close()"
   ]
  },
  {
   "cell_type": "code",
   "execution_count": null,
   "metadata": {},
   "outputs": [],
   "source": []
  },
  {
   "cell_type": "code",
   "execution_count": null,
   "metadata": {},
   "outputs": [],
   "source": []
  }
 ],
 "metadata": {
  "anaconda-cloud": {},
  "hide_input": false,
  "kernelspec": {
   "display_name": "Python 3",
   "language": "python",
   "name": "python3"
  },
  "language_info": {
   "codemirror_mode": {
    "name": "ipython",
    "version": 3
   },
   "file_extension": ".py",
   "mimetype": "text/x-python",
   "name": "python",
   "nbconvert_exporter": "python",
   "pygments_lexer": "ipython3",
   "version": "3.7.6"
  }
 },
 "nbformat": 4,
 "nbformat_minor": 1
}
